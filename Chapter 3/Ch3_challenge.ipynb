{
  "cells": [
    {
      "cell_type": "markdown",
      "metadata": {
        "id": "15EatDy5yxEI"
      },
      "source": [
        "#Analyze Customer Feedback\n",
        "\n",
        "In this exercise, we analyze customer feedback using spaCy and TextBlob."
      ]
    },
    {
      "cell_type": "markdown",
      "source": [
        "#Exercise #1:  Install Libraries and Modules\n",
        "\n"
      ],
      "metadata": {
        "id": "xfkLj86ioXxy"
      }
    },
    {
      "cell_type": "code",
      "execution_count": null,
      "metadata": {
        "id": "aQZzfNqQkdfW"
      },
      "outputs": [],
      "source": [
        "#Install Libraries and Modules\n",
        "\n",
        "\n",
        "\n",
        "\n"
      ]
    },
    {
      "cell_type": "markdown",
      "source": [
        "#Exercise #2: Read in Feedback File and Create Output File for Results"
      ],
      "metadata": {
        "id": "TElJA9XWLMrm"
      }
    },
    {
      "cell_type": "code",
      "source": [
        "# EXERCISE - SCROLL DOWN TO THE \"START HERE\" SECTION BELOW.\n",
        "\n",
        "# Load the English NLP model\n",
        "nlp = spacy.load(\"en_core_web_sm\")\n",
        "\n",
        "\n",
        "#Define the path to the file containing feedback\n",
        "file_path = '/content/feedback_data.csv'\n",
        "\n",
        "# Read the file using open() with the specified parameters\n",
        "with open(file_path, \"r\", encoding=\"utf-8\") as file:\n",
        "    # Step 2: Read the lines of the file\n",
        "    feedback_data = file.readlines()\n",
        "\n",
        "# Add code to output feedback results to a file.\n",
        "output_csv_path = \"feedback_analysis_results.csv\"\n",
        "\n",
        "# Prepare CSV header\n",
        "csv_header = [\"Feedback Index\", \"Sentiment Polarity\", \"Sentiment Subjectivity\", \"Named Entities\", \"Preferred Contact Method\"]\n",
        "\n",
        "# Open CSV file for writing\n",
        "with open(output_csv_path, \"w\", newline=\"\", encoding=\"utf-8\") as csv_file:\n",
        "    # Create CSV writer\n",
        "    csv_writer = csv.writer(csv_file)\n",
        "\n",
        "    # Write the header\n",
        "    csv_writer.writerow(csv_header)\n",
        "\n",
        "#-----------------------------------------------------------------\n",
        "# START HERE\n",
        "\n",
        "# Process and analyze each feedback\n",
        "\n",
        "\n",
        "# Process the narrative using spaCy\n",
        "\n",
        "\n",
        "\n",
        "# Perform sentiment analysis using TextBlob\n",
        "\n",
        "\n",
        "\n",
        "# Extract named entities\n",
        "\n",
        "\n",
        "# Determine the preferred contact method\n",
        "      preferred_contact_method = \"chat\" if \"email\" not in narrative.lower() else \"email\"\n",
        "      print(f\"Preferred Contact Method: {preferred_contact_method}\")\n",
        "\n",
        "# Write the results to the CSV file\n",
        "      csv_writer.writerow([idx, sentiment_polarity, sentiment_subjectivity, entities, preferred_contact_method])\n",
        "\n",
        "#-----------------------------------------------------------------"
      ],
      "metadata": {
        "id": "mjkLcZRHQk0t"
      },
      "execution_count": null,
      "outputs": []
    },
    {
      "cell_type": "markdown",
      "metadata": {
        "id": "l7hiWdrojvK_"
      },
      "source": [
        "#Exercise #3:  Exploratory Data Analysis on Customer Feedback"
      ]
    },
    {
      "cell_type": "code",
      "execution_count": null,
      "metadata": {
        "id": "c3VdXX05nCw0"
      },
      "outputs": [],
      "source": [
        "##Load results file into a Pandas Dataframe\n",
        "\n",
        "\n",
        "\n",
        "# Display the first rows of the DataFrame\n",
        "\n"
      ]
    },
    {
      "cell_type": "code",
      "execution_count": null,
      "metadata": {
        "id": "CP2J1lkwnyYL"
      },
      "outputs": [],
      "source": [
        "df.info()"
      ]
    },
    {
      "cell_type": "markdown",
      "source": [
        "##Plot the Preferred Contact Method"
      ],
      "metadata": {
        "id": "HPcHpaS5nb2k"
      }
    },
    {
      "cell_type": "code",
      "source": [
        "# Example plot: Preferred Contact Method Count\n",
        "\n",
        "\n",
        "\n",
        "\n"
      ],
      "metadata": {
        "id": "1LKkuGxtfDOt"
      },
      "execution_count": null,
      "outputs": []
    },
    {
      "cell_type": "markdown",
      "source": [
        "##Plot the Sentiment Polarity and Sentiment Subjectivity"
      ],
      "metadata": {
        "id": "1ZN_mzufnh0S"
      }
    },
    {
      "cell_type": "code",
      "source": [
        "# Pair Plot: Pairwise relationships\n",
        "sns.pairplot(data=df[['Sentiment Polarity', 'Sentiment Subjectivity']],\n",
        "             diag_kind='kde')\n",
        "plt.suptitle('Pair Plot: Pairwise relationships')\n",
        "plt.show()"
      ],
      "metadata": {
        "id": "WjYn8tEjgivQ"
      },
      "execution_count": null,
      "outputs": []
    }
  ],
  "metadata": {
    "colab": {
      "provenance": []
    },
    "kernelspec": {
      "display_name": "Python 3",
      "name": "python3"
    },
    "language_info": {
      "name": "python"
    }
  },
  "nbformat": 4,
  "nbformat_minor": 0
}
